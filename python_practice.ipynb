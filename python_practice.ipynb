{
 "cells": [
  {
   "cell_type": "code",
   "execution_count": null,
   "metadata": {},
   "outputs": [],
   "source": [
    "# write a python function that takes a list of items and a chunk size as input parameters and returns a list of lists \n",
    "# the input list should be sliced into multiple sub lists, each list containing the number of elements specified by the \n",
    "# chunk size. if there are any remaining elements that do not fit into a full chunk, they should be added to a final sub \n",
    "# list\n"
   ]
  },
  {
   "cell_type": "code",
   "execution_count": 1,
   "metadata": {},
   "outputs": [
    {
     "name": "stdout",
     "output_type": "stream",
     "text": [
      "[[1, 2, 3], [4, 5, 4], [3, 44, 55], [51, 67, 9], [8, 7, 6], [0]]\n"
     ]
    }
   ],
   "source": [
    "def chunkify(items, chunk_size):\n",
    "    result = []\n",
    "\n",
    "    #this line will generate i value like 0, 3,6,9 if chunk size = 3\n",
    "    for i in range(0, len(items), chunk_size):\n",
    "\n",
    "        #after we get i value then we can get items as 0:3, 3:6, ... like this way\n",
    "        result.append(items[i:i + chunk_size])\n",
    "    return result\n",
    "\n",
    "items = [1,2,3,4,5,4,3,44,55,51,67,9,8,7,6,0]\n",
    "chunk_size = 3\n",
    "result = chunkify(items, chunk_size)\n",
    "print(result)\n"
   ]
  },
  {
   "cell_type": "code",
   "execution_count": 8,
   "metadata": {},
   "outputs": [
    {
     "name": "stdout",
     "output_type": "stream",
     "text": [
      "0\n",
      "3\n",
      "6\n",
      "9\n",
      "12\n",
      "15\n",
      "18\n"
     ]
    }
   ],
   "source": [
    "for i in range(0, 20, 3):\n",
    "    print (i)"
   ]
  },
  {
   "cell_type": "code",
   "execution_count": 9,
   "metadata": {},
   "outputs": [
    {
     "data": {
      "text/plain": [
       "[[1, 2, 3], [4, 5, 4], [3, 44, 55], [51, 67, 9], [8, 7, 6], [0]]"
      ]
     },
     "execution_count": 9,
     "metadata": {},
     "output_type": "execute_result"
    }
   ],
   "source": [
    "# further simplifying the function \n",
    "def chunkify(items, chunk_size):\n",
    "    result = []\n",
    "\n",
    "    #this line will generate i value like 0, 3,6,9 if chunk size = 3\n",
    "    for i in range(0, len(items), chunk_size):\n",
    "\n",
    "        #after we get i value then we can get items as 0:3, 3:6, ... like this way\n",
    "        result.append(items[i:i + chunk_size])\n",
    "    return result\n",
    "\n",
    "\n",
    "chunkify([1,2,3,4,5,4,3,44,55,51,67,9,8,7,6,0], 3)\n"
   ]
  },
  {
   "cell_type": "code",
   "execution_count": 11,
   "metadata": {},
   "outputs": [
    {
     "data": {
      "text/plain": [
       "[['1', '2', '3'],\n",
       " ['4', '5', '6'],\n",
       " ['7', '7', '6'],\n",
       " ['5', '4', '44'],\n",
       " ['33', '32', '22'],\n",
       " ['11', '12', '39']]"
      ]
     },
     "execution_count": 11,
     "metadata": {},
     "output_type": "execute_result"
    }
   ],
   "source": [
    "# instead of passing function parameter ,asking items and chunk size with user \n",
    "def chunkify():\n",
    "    items = input(\"Enter the items (comma-separated): \").split(\",\")\n",
    "    chunk_size = int(input(\"Enter the chunk size: \"))\n",
    "\n",
    "    result = []\n",
    "    sublist = []\n",
    "    for item in items:\n",
    "        sublist.append(item)\n",
    "        if len(sublist) == chunk_size:\n",
    "            result.append(sublist)\n",
    "            sublist = []\n",
    "\n",
    "    if sublist:\n",
    "        result.append(sublist)\n",
    "\n",
    "    return result\n",
    "\n",
    "chunkify()\n",
    "\n"
   ]
  },
  {
   "cell_type": "code",
   "execution_count": 12,
   "metadata": {},
   "outputs": [
    {
     "name": "stdout",
     "output_type": "stream",
     "text": [
      "['a', 'is', 'dog']\n"
     ]
    }
   ],
   "source": [
    "# 7. Python: Stop Words\n",
    "# In NLP, stop words are commonly used words like \"a\", \"is\", and \"the\". They are typically filtered out during processing.\n",
    "# Implement a function that takes a string text and an integer k, and returns the list of words that occur in the \n",
    "# text at least k times. The words must be returned in the order of their first occurrence in the text.\n",
    "\n",
    "# Example\n",
    "# text = \"a mouse is smaller than a dog but a dog is stronger\"\n",
    "# k=2\n",
    "\n",
    "# The list of stop words that occur at least k = 2 times is [\"a\", \"is\", \"dog\"]. \"a\" occurs 3 times, \"is\" and \"dog\" \n",
    "# both occur 2 times. No other word occurs at least 2 times. The answer is in order of the first appearance in text.\n",
    "\n",
    "# Function Description\n",
    "# Complete the function stop_words in the editor below.\n",
    "# stop_words has the following parameter(s):\n",
    "# string text: the input text.\n",
    "# int k: the threshold occurrence count for a word to be a stop word\n",
    "\n",
    "# Returns\n",
    "# string[] the list of stop words in order of their first occurrence\n",
    "\n",
    "# Constraints\n",
    "# • text has at most 50000 characters.\n",
    "# • Every character in text is either an English lowercase letter or a space.\n",
    "# • text starts and ends with a letter. No two consecutive characters are spaces, i.e. text is a valid sentence. \n",
    "# There will be at least one stop word in the text.\n",
    "# ·\n",
    "# • 1≤ k ≤18\n",
    "\n",
    "\n"
   ]
  },
  {
   "cell_type": "code",
   "execution_count": null,
   "metadata": {},
   "outputs": [],
   "source": []
  }
 ],
 "metadata": {
  "kernelspec": {
   "display_name": "Python 3",
   "language": "python",
   "name": "python3"
  },
  "language_info": {
   "codemirror_mode": {
    "name": "ipython",
    "version": 3
   },
   "file_extension": ".py",
   "mimetype": "text/x-python",
   "name": "python",
   "nbconvert_exporter": "python",
   "pygments_lexer": "ipython3",
   "version": "3.11.2"
  },
  "orig_nbformat": 4
 },
 "nbformat": 4,
 "nbformat_minor": 2
}
