{
 "cells": [
  {
   "cell_type": "code",
   "execution_count": null,
   "metadata": {},
   "outputs": [],
   "source": [
    "# write a python function that takes a list of items and a chunk size as input parameters and returns a list of lists \n",
    "# the input list should be sliced into multiple sub lists, each list containing the number of elements specified by the \n",
    "# chunk size. if there are any remaining elements that do not fit into a full chunk, they should be added to a final sub \n",
    "# list\n"
   ]
  },
  {
   "cell_type": "code",
   "execution_count": 1,
   "metadata": {},
   "outputs": [
    {
     "name": "stdout",
     "output_type": "stream",
     "text": [
      "[[1, 2, 3], [4, 5, 4], [3, 44, 55], [51, 67, 9], [8, 7, 6], [0]]\n"
     ]
    }
   ],
   "source": [
    "def chunkify(items, chunk_size):\n",
    "    result = []\n",
    "\n",
    "    #this line will generate i value like 0, 3,6,9 if chunk size = 3\n",
    "    for i in range(0, len(items), chunk_size):\n",
    "\n",
    "        #after we get i value then we can get items as 0:3, 3:6, ... like this way\n",
    "        result.append(items[i:i + chunk_size])\n",
    "    return result\n",
    "\n",
    "items = [1,2,3,4,5,4,3,44,55,51,67,9,8,7,6,0]\n",
    "chunk_size = 3\n",
    "result = chunkify(items, chunk_size)\n",
    "print(result)\n"
   ]
  },
  {
   "cell_type": "code",
   "execution_count": 8,
   "metadata": {},
   "outputs": [
    {
     "name": "stdout",
     "output_type": "stream",
     "text": [
      "0\n",
      "3\n",
      "6\n",
      "9\n",
      "12\n",
      "15\n",
      "18\n"
     ]
    }
   ],
   "source": [
    "for i in range(0, 20, 3):\n",
    "    print (i)"
   ]
  },
  {
   "cell_type": "code",
   "execution_count": 9,
   "metadata": {},
   "outputs": [
    {
     "data": {
      "text/plain": [
       "[[1, 2, 3], [4, 5, 4], [3, 44, 55], [51, 67, 9], [8, 7, 6], [0]]"
      ]
     },
     "execution_count": 9,
     "metadata": {},
     "output_type": "execute_result"
    }
   ],
   "source": [
    "# further simplifying the function \n",
    "def chunkify(items, chunk_size):\n",
    "    result = []\n",
    "\n",
    "    #this line will generate i value like 0, 3,6,9 if chunk size = 3\n",
    "    for i in range(0, len(items), chunk_size):\n",
    "\n",
    "        #after we get i value then we can get items as 0:3, 3:6, ... like this way\n",
    "        result.append(items[i:i + chunk_size])\n",
    "    return result\n",
    "\n",
    "\n",
    "chunkify([1,2,3,4,5,4,3,44,55,51,67,9,8,7,6,0], 3)\n"
   ]
  },
  {
   "cell_type": "code",
   "execution_count": null,
   "metadata": {},
   "outputs": [],
   "source": []
  }
 ],
 "metadata": {
  "kernelspec": {
   "display_name": "Python 3",
   "language": "python",
   "name": "python3"
  },
  "language_info": {
   "codemirror_mode": {
    "name": "ipython",
    "version": 3
   },
   "file_extension": ".py",
   "mimetype": "text/x-python",
   "name": "python",
   "nbconvert_exporter": "python",
   "pygments_lexer": "ipython3",
   "version": "3.11.2"
  },
  "orig_nbformat": 4
 },
 "nbformat": 4,
 "nbformat_minor": 2
}
