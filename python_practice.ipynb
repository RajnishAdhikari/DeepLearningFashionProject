{
 "cells": [
  {
   "cell_type": "code",
   "execution_count": null,
   "metadata": {},
   "outputs": [],
   "source": [
    "# write a python function that takes a list of items and a chunk size as input parameters and returns a list of lists \n",
    "# the input list should be sliced into multiple sub lists, each list containing the number of elements specified by the \n",
    "# chunk size. if there are any remaining elements that do not fit into a full chunk, they should be added to a final sub \n",
    "# list\n"
   ]
  },
  {
   "cell_type": "code",
   "execution_count": 1,
   "metadata": {},
   "outputs": [
    {
     "name": "stdout",
     "output_type": "stream",
     "text": [
      "[[1, 2, 3], [4, 5, 4], [3, 44, 55], [51, 67, 9], [8, 7, 6], [0]]\n"
     ]
    }
   ],
   "source": [
    "def chunkify(items, chunk_size):\n",
    "    result = []\n",
    "\n",
    "    #this line will generate i value like 0, 3,6,9 if chunk size = 3\n",
    "    for i in range(0, len(items), chunk_size):\n",
    "\n",
    "        #after we get i value then we can get items as 0:3, 3:6, ... like this way\n",
    "        result.append(items[i:i + chunk_size])\n",
    "    return result\n",
    "\n",
    "items = [1,2,3,4,5,4,3,44,55,51,67,9,8,7,6,0]\n",
    "chunk_size = 3\n",
    "result = chunkify(items, chunk_size)\n",
    "print(result)\n"
   ]
  },
  {
   "cell_type": "code",
   "execution_count": 8,
   "metadata": {},
   "outputs": [
    {
     "name": "stdout",
     "output_type": "stream",
     "text": [
      "0\n",
      "3\n",
      "6\n",
      "9\n",
      "12\n",
      "15\n",
      "18\n"
     ]
    }
   ],
   "source": [
    "for i in range(0, 20, 3):\n",
    "    print (i)"
   ]
  },
  {
   "cell_type": "code",
   "execution_count": 9,
   "metadata": {},
   "outputs": [
    {
     "data": {
      "text/plain": [
       "[[1, 2, 3], [4, 5, 4], [3, 44, 55], [51, 67, 9], [8, 7, 6], [0]]"
      ]
     },
     "execution_count": 9,
     "metadata": {},
     "output_type": "execute_result"
    }
   ],
   "source": [
    "# further simplifying the function \n",
    "def chunkify(items, chunk_size):\n",
    "    result = []\n",
    "\n",
    "    #this line will generate i value like 0, 3,6,9 if chunk size = 3\n",
    "    for i in range(0, len(items), chunk_size):\n",
    "\n",
    "        #after we get i value then we can get items as 0:3, 3:6, ... like this way\n",
    "        result.append(items[i:i + chunk_size])\n",
    "    return result\n",
    "\n",
    "\n",
    "chunkify([1,2,3,4,5,4,3,44,55,51,67,9,8,7,6,0], 3)\n"
   ]
  },
  {
   "cell_type": "code",
   "execution_count": 11,
   "metadata": {},
   "outputs": [
    {
     "data": {
      "text/plain": [
       "[['1', '2', '3'],\n",
       " ['4', '5', '6'],\n",
       " ['7', '7', '6'],\n",
       " ['5', '4', '44'],\n",
       " ['33', '32', '22'],\n",
       " ['11', '12', '39']]"
      ]
     },
     "execution_count": 11,
     "metadata": {},
     "output_type": "execute_result"
    }
   ],
   "source": [
    "# instead of passing function parameter ,asking items and chunk size with user \n",
    "def chunkify():\n",
    "    items = input(\"Enter the items (comma-separated): \").split(\",\")\n",
    "    chunk_size = int(input(\"Enter the chunk size: \"))\n",
    "\n",
    "    result = []\n",
    "    sublist = []\n",
    "    for item in items:\n",
    "        sublist.append(item)\n",
    "        if len(sublist) == chunk_size:\n",
    "            result.append(sublist)\n",
    "            sublist = []\n",
    "\n",
    "    if sublist:\n",
    "        result.append(sublist)\n",
    "\n",
    "    return result\n",
    "\n",
    "chunkify()\n",
    "\n"
   ]
  },
  {
   "cell_type": "code",
   "execution_count": 12,
   "metadata": {},
   "outputs": [
    {
     "name": "stdout",
     "output_type": "stream",
     "text": [
      "['a', 'is', 'dog']\n"
     ]
    }
   ],
   "source": [
    "# 7. Python: Stop Words\n",
    "# In NLP, stop words are commonly used words like \"a\", \"is\", and \"the\". They are typically filtered out during processing.\n",
    "# Implement a function that takes a string text and an integer k, and returns the list of words that occur in the \n",
    "# text at least k times. The words must be returned in the order of their first occurrence in the text.\n",
    "\n",
    "# Example\n",
    "# text = \"a mouse is smaller than a dog but a dog is stronger\"\n",
    "# k=2\n",
    "\n",
    "# The list of stop words that occur at least k = 2 times is [\"a\", \"is\", \"dog\"]. \"a\" occurs 3 times, \"is\" and \"dog\" \n",
    "# both occur 2 times. No other word occurs at least 2 times. The answer is in order of the first appearance in text.\n",
    "\n",
    "# Function Description\n",
    "# Complete the function stop_words in the editor below.\n",
    "# stop_words has the following parameter(s):\n",
    "# string text: the input text.\n",
    "# int k: the threshold occurrence count for a word to be a stop word\n",
    "\n",
    "# Returns\n",
    "# string[] the list of stop words in order of their first occurrence\n",
    "\n",
    "# Constraints\n",
    "# • text has at most 50000 characters.\n",
    "# • Every character in text is either an English lowercase letter or a space.\n",
    "# • text starts and ends with a letter. No two consecutive characters are spaces, i.e. text is a valid sentence. \n",
    "# There will be at least one stop word in the text.\n",
    "# ·\n",
    "# • 1≤ k ≤18\n",
    "\n",
    "def stop_words(text, k):\n",
    "    # Split the text into words\n",
    "    words = text.split()\n",
    "\n",
    "    # Count the occurrences of each word\n",
    "\n",
    "    # this dictonary will store the counts of each word in text\n",
    "    word_counts = {}\n",
    "\n",
    "    # this loop iterate to all word in words \n",
    "    for word in words:\n",
    "\n",
    "        # this statement check that if word already exists then 1 is added else 1 is given to new word \n",
    "        if word in word_counts:\n",
    "            word_counts[word] += 1\n",
    "        else:\n",
    "            word_counts[word] = 1\n",
    "\n",
    "    # Create a list of stop words that occur at least k times\n",
    "\n",
    "    # this list will create empty list that store the words which occur at least k time \n",
    "    stop_words = []\n",
    "    for word in words:\n",
    "\n",
    "        # this statement will check if word_counts matches the condition and make sure that no duplicate word is appended \n",
    "        if word_counts[word] >= k and word not in stop_words:\n",
    "            stop_words.append(word)\n",
    "\n",
    "    return stop_words\n",
    "\n",
    "text = \"a mouse is smaller than a dog but a dog is stronger\"\n",
    "k = 2\n",
    "result = stop_words(text, k)\n",
    "print(result)\n",
    "\n"
   ]
  },
  {
   "cell_type": "code",
   "execution_count": 15,
   "metadata": {},
   "outputs": [
    {
     "data": {
      "text/plain": [
       "['a', 'is', 'dog']"
      ]
     },
     "execution_count": 15,
     "metadata": {},
     "output_type": "execute_result"
    }
   ],
   "source": [
    "# for same question, just a reduced answer \n",
    "\n",
    "def stop_words(text, k):\n",
    "    # Split the text into words\n",
    "    words = text.split()\n",
    "\n",
    "    # Count the occurrences of each word\n",
    "    word_counts = {}\n",
    "    for word in words:\n",
    "        if word in word_counts:\n",
    "            word_counts[word] = word_counts[word] +  1\n",
    "        else:\n",
    "            word_counts[word] = 1\n",
    "\n",
    "    # Create a list of stop words that occur at least k times\n",
    "    stop_words = []\n",
    "    for word in words:\n",
    "        if word_counts[word] >= k and word not in stop_words:\n",
    "            stop_words.append(word)\n",
    "\n",
    "    return stop_words\n",
    "\n",
    "\n",
    "stop_words(\"a mouse is smaller than a dog but a dog is stronger\", 2)\n",
    "\n"
   ]
  },
  {
   "cell_type": "code",
   "execution_count": 19,
   "metadata": {},
   "outputs": [
    {
     "data": {
      "text/plain": [
       "'AAG'"
      ]
     },
     "execution_count": 19,
     "metadata": {},
     "output_type": "execute_result"
    }
   ],
   "source": [
    "# 5. Eliminate Substring\n",
    "# Given a string s with uppercase English letters, remove all occurrences of the string AWS until no more remain. After each removal, the prefix and suffix strings are concatenated. Return the final string. If the final string is empty, return -1 as a string.\n",
    "\n",
    "# Example\n",
    "# S = \"AWAWSSG\"\n",
    "# •AWAWSSG->AWSG\n",
    "# • AWSG -> G\n",
    "# Return the final string, G.\n",
    "\n",
    "# Function Description\n",
    "# Complete the function getFinalString in the editor below.\n",
    "# The function getFinalString has the following parameter: string s[n]: a string of uppercase English characters\n",
    "\n",
    "# Return\n",
    "# string: the string after removing all occurrences of \"AWS\" from the given string or \"-1\"\n",
    "\n",
    "# Constraints\n",
    "# • 1≤/s/s105\n",
    "# • The string contains only uppercase English letters.\n",
    "\n",
    "\n",
    "\n",
    "def getFinalString(s):\n",
    "    while \"AWS\" in s:\n",
    "        s = s.replace(\"AWS\", \"\")\n",
    "    \n",
    "    if s == \"\":\n",
    "        return \"-1\"\n",
    "    else:\n",
    "        return s\n",
    "getFinalString(\"AAWSWSAAAWSG\")\n"
   ]
  },
  {
   "cell_type": "code",
   "execution_count": 21,
   "metadata": {},
   "outputs": [
    {
     "data": {
      "text/plain": [
       "[1, 4, 36, 9, 16]"
      ]
     },
     "execution_count": 21,
     "metadata": {},
     "output_type": "execute_result"
    }
   ],
   "source": [
    "# ﻿\n",
    "\n",
    "# 4. Python: Lambda Map\n",
    "# The square operation is to be performed on an input array of arrays. It is to be applied only to the integers which are greater than 0, ignoring the rest, i.e., the rest are not to be included in the output. The input is not exactly a 2D array, as all the rows can have a different number of elements. Fill in the required lambda function to achieve this in the editor below.\n",
    "# Take, for example, the input array arr = [[-1, 1, 2, -2, 6], [3, 4, -5]], of length n = 2. First, remove the elements less than or equal to 0 to get arr' = [[1, 2, 6], [3, 4]]. Then, squaring each element, the result is [[1, 4, 36], [9, 16]].\n",
    "# Function Description\n",
    "# Complete the function lambdaMap in the editor below. Write the Lambda function required to achieve this.\n",
    "# lambdaMap has the following parameters:\n",
    "# arr[arr[0],..., arr[n-1]]: an array of arrays\n",
    "# Constraints\n",
    "# • 1sns104\n",
    "# • 1s arr[i]| ≤ 10\n",
    "# .\n",
    "# -104 s arr[i]s 104 (where Osi<n)\n",
    "\n",
    "\n",
    "\n",
    "def lambdaMap(arr):\n",
    "  \"\"\"\n",
    "  This function squares the elements of an array of arrays, ignoring the elements which are less than or equal to 0.\n",
    "\n",
    "  Args:\n",
    "    arr: An array of arrays.\n",
    "\n",
    "  Returns:\n",
    "    An array of arrays, where each element is the square of the corresponding element in the input array.\n",
    "  \"\"\"\n",
    "\n",
    "  # Create a lambda function that squares an integer.\n",
    "  square = lambda x: x * x\n",
    "\n",
    "  # Create a new array of arrays.\n",
    "  new_arr = []\n",
    "\n",
    "  # Iterate over the input array.\n",
    "  for row in arr:\n",
    "    # Iterate over the elements in the current row.\n",
    "    for element in row:\n",
    "      # If the element is greater than 0, square it and add it to the new array.\n",
    "      if element > 0:\n",
    "        new_arr.append(square(element))\n",
    "\n",
    "  # Return the new array.\n",
    "  return new_arr\n",
    "\n",
    "lambdaMap([[-1, 1, 2, -2, 6], [3, 4, -5]])\n",
    "\n",
    "\n",
    "\n"
   ]
  },
  {
   "cell_type": "code",
   "execution_count": 22,
   "metadata": {},
   "outputs": [
    {
     "name": "stdout",
     "output_type": "stream",
     "text": [
      "[1, 4, 36]\n",
      "[9, 16]\n"
     ]
    }
   ],
   "source": [
    "def lambdaMap(arr):\n",
    "    result = []\n",
    "    for row in arr:\n",
    "        squared_row = [x**2 for x in row if x > 0]\n",
    "        result.append(squared_row)\n",
    "    return result\n",
    "\n",
    "# Sample input\n",
    "arr = [[-1, 1, 2, -2, 6], [3, 4, -5]]\n",
    "\n",
    "# Apply lambdaMap function\n",
    "output = lambdaMap(arr)\n",
    "\n",
    "# Print the output\n",
    "for row in output:\n",
    "    print(row)"
   ]
  },
  {
   "cell_type": "code",
   "execution_count": 2,
   "metadata": {},
   "outputs": [
    {
     "name": "stdout",
     "output_type": "stream",
     "text": [
      "Hello ram adhikari ! You just delved into python\n"
     ]
    }
   ],
   "source": [
    "# You are given the firstname and lastname of a person on two different lines. Your task is to read them and print the following:\n",
    "\n",
    "# Hello firstname lastname! You just delved into python.\n",
    "\n",
    "# Function Description\n",
    "\n",
    "# Complete the print_full_name function in the editor below.\n",
    "\n",
    "# print_full_name has the following parameters:\n",
    "\n",
    "# string first: the first name\n",
    "# string last: the last name\n",
    "\n",
    "\n",
    "def print_full_name(first, last):\n",
    "    return print(f\"Hello {first_name} {last_name} ! You just delved into python.\")\n",
    "\n",
    "if __name__ == '__main__':\n",
    "    first_name = input()\n",
    "    last_name = input()\n",
    "    print_full_name(first_name, last_name)\n"
   ]
  },
  {
   "cell_type": "code",
   "execution_count": null,
   "metadata": {},
   "outputs": [],
   "source": []
  }
 ],
 "metadata": {
  "kernelspec": {
   "display_name": "Python 3",
   "language": "python",
   "name": "python3"
  },
  "language_info": {
   "codemirror_mode": {
    "name": "ipython",
    "version": 3
   },
   "file_extension": ".py",
   "mimetype": "text/x-python",
   "name": "python",
   "nbconvert_exporter": "python",
   "pygments_lexer": "ipython3",
   "version": "3.11.2"
  },
  "orig_nbformat": 4
 },
 "nbformat": 4,
 "nbformat_minor": 2
}
