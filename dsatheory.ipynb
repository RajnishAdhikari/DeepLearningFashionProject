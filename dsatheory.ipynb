{
 "cells": [
  {
   "cell_type": "code",
   "execution_count": null,
   "metadata": {},
   "outputs": [],
   "source": [
    "# # DSA \n",
    "# Data structures and algorithms are fundamental concepts in computer science and play a crucial role in solving \n",
    "# complex problems efficiently.\n",
    "\n",
    "# Data structures refer to the way data is organized and stored in computer memory. They provide a means to store, \n",
    "# manipulate, and access data effectively. Some commonly used data structures include arrays, linked lists, stacks, \n",
    "# queues, trees, graphs, and hash tables.\n",
    "\n",
    "# Algorithms, on the other hand, are step-by-step procedures or instructions used to solve problems. They define \n",
    "# the logic and sequence of operations required to perform a specific task. Efficient algorithms can significantly \n",
    "# impact the performance and scalability of software applications.\n",
    "\n",
    "\n",
    "# some popular data structures and algorithms:\n",
    "\n",
    "# Arrays: A collection of elements of the same type stored in contiguous memory locations.\n",
    "\n",
    "# Linked Lists: A data structure where each element (node) contains a value and a reference to the next node.\n",
    "\n",
    "# Stacks: A data structure that follows the Last-In-First-Out (LIFO) principle. Elements can be added or removed \n",
    "# only from the top.\n",
    "\n",
    "# Queues: A data structure that follows the First-In-First-Out (FIFO) principle. Elements can be added at the rear \n",
    "# and removed from the front.\n",
    "\n",
    "# Trees: A hierarchical data structure with a collection of nodes, typically consisting of a root node, branches, \n",
    "# and leaves.\n",
    "\n",
    "# Graphs: A collection of nodes (vertices) connected by edges, representing relationships between objects.\n",
    "\n",
    "# Hash Tables: A data structure that uses a hash function to map keys to values, allowing efficient lookup, insertion, \n",
    "# and deletion operations."
   ]
  }
 ],
 "metadata": {
  "language_info": {
   "name": "python"
  },
  "orig_nbformat": 4
 },
 "nbformat": 4,
 "nbformat_minor": 2
}
