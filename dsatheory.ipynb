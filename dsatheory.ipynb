{
 "cells": [
  {
   "cell_type": "code",
   "execution_count": null,
   "metadata": {},
   "outputs": [],
   "source": [
    "# DSA \n",
    "Data structures and algorithms are fundamental concepts in computer science and play a crucial role in solving complex problems efficiently.\n",
    "\n",
    "Data structures refer to the way data is organized and stored in computer memory. They provide a means to store, manipulate, and access data effectively. Some commonly used data structures include arrays, linked lists, stacks, queues, trees, graphs, and hash tables.\n",
    "\n",
    "Algorithms, on the other hand, are step-by-step procedures or instructions used to solve problems. They define the logic and sequence of operations required to perform a specific task. Efficient algorithms can significantly impact the performance and scalability of software applications."
   ]
  }
 ],
 "metadata": {
  "language_info": {
   "name": "python"
  },
  "orig_nbformat": 4
 },
 "nbformat": 4,
 "nbformat_minor": 2
}
